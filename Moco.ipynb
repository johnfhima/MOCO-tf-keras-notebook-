{
 "cells": [
  {
   "cell_type": "code",
   "execution_count": 26,
   "id": "6cf996b9",
   "metadata": {
    "id": "6cf996b9"
   },
   "outputs": [],
   "source": [
    "import tensorflow as tf\n",
    "from tensorflow.keras.layers import *"
   ]
  },
  {
   "cell_type": "code",
   "execution_count": 27,
   "id": "d4f0718a",
   "metadata": {
    "id": "d4f0718a"
   },
   "outputs": [],
   "source": [
    "description='MoCo example: MNIST'\n",
    "batchsize=100\n",
    "epochs =50\n",
    "\n",
    "class DuplicatedCompose(object):\n",
    "    def __init__(self, transforms):\n",
    "        self.transforms = transforms\n",
    "\n",
    "    def __call__(self, img):\n",
    "        return self.transforms(img), self.transforms(img)"
   ]
  },
  {
   "cell_type": "code",
   "execution_count": 28,
   "id": "4Xf-nAGXLneu",
   "metadata": {
    "id": "4Xf-nAGXLneu"
   },
   "outputs": [],
   "source": [
    "class RandomResizedCrop(tf.keras.layers.Layer):\n",
    "    # taken from\n",
    "    # https://keras.io/examples/vision/nnclr/#random-resized-crops\n",
    "    def __init__(self, scale, ratio, crop_shape):\n",
    "        super(RandomResizedCrop, self).__init__()\n",
    "        self.scale = scale\n",
    "        self.log_ratio = (tf.math.log(ratio[0]), tf.math.log(ratio[1]))\n",
    "        self.crop_shape = crop_shape\n",
    "\n",
    "    def call(self, images):\n",
    "        batch_size = tf.shape(images)[0]\n",
    "\n",
    "        random_scales = tf.random.uniform(\n",
    "            (batch_size,),\n",
    "            self.scale[0],\n",
    "            self.scale[1]\n",
    "        )\n",
    "        random_ratios = tf.exp(tf.random.uniform(\n",
    "            (batch_size,),\n",
    "            self.log_ratio[0],\n",
    "            self.log_ratio[1]\n",
    "        ))\n",
    "\n",
    "        new_heights = tf.clip_by_value(\n",
    "            tf.sqrt(random_scales / random_ratios),\n",
    "            0,\n",
    "            1,\n",
    "        )\n",
    "        new_widths = tf.clip_by_value(\n",
    "            tf.sqrt(random_scales * random_ratios),\n",
    "            0,\n",
    "            1,\n",
    "        )\n",
    "        height_offsets = tf.random.uniform(\n",
    "            (batch_size,),\n",
    "            0,\n",
    "            1 - new_heights,\n",
    "        )\n",
    "        width_offsets = tf.random.uniform(\n",
    "            (batch_size,),\n",
    "            0,\n",
    "            1 - new_widths,\n",
    "        )\n",
    "\n",
    "        bounding_boxes = tf.stack(\n",
    "            [\n",
    "                height_offsets,\n",
    "                width_offsets,\n",
    "                height_offsets + new_heights,\n",
    "                width_offsets + new_widths,\n",
    "            ],\n",
    "            axis=1,\n",
    "        )\n",
    "        images = tf.image.crop_and_resize(\n",
    "            images,\n",
    "            bounding_boxes,\n",
    "            tf.range(batch_size),\n",
    "            self.crop_shape,\n",
    "        )\n",
    "        return images"
   ]
  },
  {
   "cell_type": "code",
   "execution_count": 29,
   "id": "c1bd5632",
   "metadata": {
    "id": "c1bd5632"
   },
   "outputs": [],
   "source": [
    "transform = DuplicatedCompose(tf.keras.Sequential([\n",
    "    tf.keras.layers.experimental.preprocessing.RandomRotation(0.05,'constant'),\n",
    "    RandomResizedCrop(scale=(0.9, 1.1), ratio=(0.9, 1.1),crop_shape=(28,28)),\n",
    "    tf.keras.layers.experimental.preprocessing.Rescaling(1./255)\n",
    "]))\n"
   ]
  },
  {
   "cell_type": "code",
   "execution_count": 30,
   "id": "102e4128",
   "metadata": {
    "id": "102e4128"
   },
   "outputs": [],
   "source": [
    "mnist = tf.keras.datasets.mnist\n",
    "(x_train, y_train), (x_test, y_test) = mnist.load_data()"
   ]
  },
  {
   "cell_type": "code",
   "execution_count": 31,
   "id": "07D9hSRbMTEj",
   "metadata": {
    "id": "07D9hSRbMTEj"
   },
   "outputs": [],
   "source": [
    "x_train = tf.reshape(x_train,(x_train.shape[0],x_train.shape[1],x_train.shape[2],1))\n",
    "x_test = tf.reshape(x_test,(x_test.shape[0],x_test.shape[1],x_test.shape[2],1))"
   ]
  },
  {
   "cell_type": "code",
   "execution_count": 32,
   "id": "f6dc6a86",
   "metadata": {
    "id": "f6dc6a86"
   },
   "outputs": [],
   "source": [
    "train_mnist = tf.data.Dataset.from_tensor_slices((x_train,y_train))\n",
    "test_mnist = tf.data.Dataset.from_tensor_slices((x_test,y_test))"
   ]
  },
  {
   "cell_type": "code",
   "execution_count": 33,
   "id": "6a61a095",
   "metadata": {
    "id": "6a61a095"
   },
   "outputs": [],
   "source": [
    "train_loader = train_mnist.batch(batchsize)\n",
    "test_loader = test_mnist.batch(batchsize)"
   ]
  },
  {
   "cell_type": "code",
   "execution_count": 34,
   "id": "feb5fc02",
   "metadata": {
    "id": "feb5fc02"
   },
   "outputs": [],
   "source": [
    "def normalize(x,eps = 1e-4):\n",
    "    return x/tf.reshape(tf.math.maximum(tf.reduce_sum(x**2,axis = -1),eps),(-1,1))\n",
    "def build_model():\n",
    "    inputs = Input((28,28,1))\n",
    "    x = Conv2D(32,3,activation = 'relu')(inputs)\n",
    "    x = Conv2D(64,3,activation = 'relu')(x)\n",
    "    x = MaxPooling2D(2)(x)\n",
    "    x = Flatten()(x)\n",
    "    x = Dense(128)(x)\n",
    "    x = normalize(x)\n",
    "    model = tf.keras.Model(inputs,x)\n",
    "    return model"
   ]
  },
  {
   "cell_type": "code",
   "execution_count": 35,
   "id": "03b30a49",
   "metadata": {
    "id": "03b30a49"
   },
   "outputs": [],
   "source": [
    "model_q = build_model()\n",
    "model_k = tf.keras.models.clone_model(model_q)\n",
    "optimizer = tf.keras.optimizers.SGD()"
   ]
  },
  {
   "cell_type": "code",
   "execution_count": 36,
   "id": "7374f495",
   "metadata": {
    "id": "7374f495"
   },
   "outputs": [],
   "source": [
    "def queue_data(data, k):\n",
    "    return tf.concat([data, k], axis=0)\n",
    "def dequeue_data(data, K=4096):\n",
    "    if len(data) > K:\n",
    "        return data[-K:]\n",
    "    else:\n",
    "        return data\n",
    "def initialize_queue(model_k, train_loader):\n",
    "    queue = tf.zeros((0, 128), dtype=tf.float32) \n",
    "    \n",
    "    for batch_idx, (data, target) in enumerate(train_loader):\n",
    "        x_k = transform(data)[0]\n",
    "        k = model_k(x_k)\n",
    "        k = tf.stop_gradient(k)\n",
    "        queue = queue_data(queue, k)\n",
    "        queue = dequeue_data(queue, K = 10)\n",
    "        break\n",
    "    return queue\n",
    "\n",
    "queue = initialize_queue(model_k, train_loader)"
   ]
  },
  {
   "cell_type": "code",
   "execution_count": 37,
   "id": "ed75d41d",
   "metadata": {
    "id": "ed75d41d"
   },
   "outputs": [],
   "source": [
    "def momentum_update(model_q, model_k, beta = 0.999):\n",
    "    for i in range(len(model_q.layers)):\n",
    "        if len(model_q.layers[i].get_weights())>0:\n",
    "            w_q_i = model_q.layers[i].get_weights()[0]\n",
    "            w_k_i = model_k.layers[i].get_weights()[0]\n",
    "            b_q_i = model_q.layers[i].get_weights()[1]\n",
    "            b_k_i = model_k.layers[i].get_weights()[1]\n",
    "            model_k.layers[i].set_weights([beta*w_k_i + (1-beta)*w_q_i,beta*b_k_i + (1-beta)*b_q_i])"
   ]
  },
  {
   "cell_type": "code",
   "execution_count": 38,
   "id": "Gz6dwbiGJzYD",
   "metadata": {
    "id": "Gz6dwbiGJzYD"
   },
   "outputs": [],
   "source": [
    "class MOCO(tf.keras.Model):\n",
    "    def __init__(self, model_q):\n",
    "      super(MOCO, self).__init__()\n",
    "      self.model_q = model_q\n",
    "      self.model_k = tf.keras.models.clone_model(model_q)\n",
    "      self.queue = initialize_queue(model_k, train_loader)\n",
    "      self.temp = 0.07\n",
    "    def compile(self, optimizer, loss_fn):\n",
    "        super(MOCO, self).compile(run_eagerly=True)\n",
    "        self.optimizer = optimizer\n",
    "        self.loss_fn = loss_fn\n",
    "      \n",
    "    def train_step(self, data_):\n",
    "        # Unpack the data. Its structure depends on your model and\n",
    "        # on what you pass to `fit()`.\n",
    "        data, target = data_\n",
    "        x_q,x_k = transform(data)\n",
    "        k = model_k(x_k)\n",
    "        k = tf.stop_gradient(k)\n",
    "        N = tf.shape(data)[0]\n",
    "        K = tf.shape(self.queue)[0]\n",
    "        with tf.GradientTape() as tape:\n",
    "            q = model_q(x_q)\n",
    "            a = tf.reshape(q,(N,1,-1))\n",
    "            b = tf.reshape(k,(N,-1,1))\n",
    "            l_pos = tf.matmul(a,b)\n",
    "            l_neg = tf.matmul(tf.reshape(q,(N,-1)), tf.reshape(tf.transpose(self.queue),(-1,K)))\n",
    "            logits = tf.concat([tf.reshape(l_pos,(N, 1)), l_neg], axis=1)\n",
    "            labels = tf.zeros(N, dtype=tf.float32)\n",
    "            loss = self.loss_fn(labels,logits/self.temp)\n",
    "        grads = tape.gradient(loss, model_q.trainable_weights)\n",
    "        optimizer.apply_gradients(zip(grads, model_q.trainable_weights))\n",
    "\n",
    "        momentum_update(self.model_q, self.model_k)\n",
    "\n",
    "        queue = queue_data(self.queue, k)\n",
    "        queue = dequeue_data(self.queue)\n",
    "\n",
    "        return {\"loss\": loss}"
   ]
  },
  {
   "cell_type": "code",
   "execution_count": 39,
   "id": "v9disDD9L8Ly",
   "metadata": {
    "id": "v9disDD9L8Ly"
   },
   "outputs": [],
   "source": [
    "moco = MOCO(model_q)"
   ]
  },
  {
   "cell_type": "code",
   "execution_count": 40,
   "id": "PRE-tbeMMAjw",
   "metadata": {
    "id": "PRE-tbeMMAjw"
   },
   "outputs": [],
   "source": [
    "moco.compile(optimizer, tf.keras.losses.SparseCategoricalCrossentropy(from_logits=True))"
   ]
  },
  {
   "cell_type": "code",
   "execution_count": 41,
   "id": "YyEmm078MKLI",
   "metadata": {
    "colab": {
     "base_uri": "https://localhost:8080/",
     "height": 363
    },
    "id": "YyEmm078MKLI",
    "outputId": "5185b200-cc4d-4b09-c862-9a13b9b39804"
   },
   "outputs": [
    {
     "name": "stdout",
     "output_type": "stream",
     "text": [
      "Epoch 1/50\n",
      "600/600 [==============================] - 39s 65ms/step - loss: 0.5174\n",
      "Epoch 2/50\n",
      "600/600 [==============================] - 39s 64ms/step - loss: 0.0060\n",
      "Epoch 3/50\n",
      "600/600 [==============================] - 39s 66ms/step - loss: 0.3148\n",
      "Epoch 4/50\n",
      "600/600 [==============================] - 39s 65ms/step - loss: 0.0627\n",
      "Epoch 5/50\n",
      "600/600 [==============================] - 39s 65ms/step - loss: 0.0049\n",
      "Epoch 6/50\n",
      "600/600 [==============================] - 39s 65ms/step - loss: 0.0019\n",
      "Epoch 7/50\n",
      "600/600 [==============================] - 39s 65ms/step - loss: 0.2412\n",
      "Epoch 8/50\n",
      "600/600 [==============================] - 40s 66ms/step - loss: 0.0103\n",
      "Epoch 9/50\n",
      "600/600 [==============================] - 40s 67ms/step - loss: 0.0774\n",
      "Epoch 10/50\n",
      "600/600 [==============================] - 39s 65ms/step - loss: 0.0158\n",
      "Epoch 11/50\n",
      "600/600 [==============================] - 40s 66ms/step - loss: 0.0022\n",
      "Epoch 12/50\n",
      "600/600 [==============================] - 39s 65ms/step - loss: 0.0155\n",
      "Epoch 13/50\n",
      "600/600 [==============================] - 39s 65ms/step - loss: 0.0020\n",
      "Epoch 14/50\n",
      "600/600 [==============================] - 39s 65ms/step - loss: 0.0014\n",
      "Epoch 15/50\n",
      "600/600 [==============================] - 39s 64ms/step - loss: 0.0011\n",
      "Epoch 16/50\n",
      "600/600 [==============================] - 39s 65ms/step - loss: 0.0084\n",
      "Epoch 17/50\n",
      "600/600 [==============================] - 40s 67ms/step - loss: 0.0022\n",
      "Epoch 18/50\n",
      "600/600 [==============================] - 39s 65ms/step - loss: 9.9301e-04\n",
      "Epoch 19/50\n",
      "600/600 [==============================] - 39s 66ms/step - loss: 0.0021\n",
      "Epoch 20/50\n",
      "600/600 [==============================] - 39s 66ms/step - loss: 6.6079e-04\n",
      "Epoch 21/50\n",
      "600/600 [==============================] - 39s 65ms/step - loss: 3.6081e-04\n",
      "Epoch 22/50\n",
      "600/600 [==============================] - 39s 65ms/step - loss: 5.5078e-04\n",
      "Epoch 23/50\n",
      "600/600 [==============================] - 39s 65ms/step - loss: 0.0010\n",
      "Epoch 24/50\n",
      "600/600 [==============================] - 41s 68ms/step - loss: 5.8301e-04\n",
      "Epoch 25/50\n",
      "600/600 [==============================] - 39s 66ms/step - loss: 3.5859e-04\n",
      "Epoch 26/50\n",
      "600/600 [==============================] - 39s 65ms/step - loss: 3.2588e-04\n",
      "Epoch 27/50\n",
      "600/600 [==============================] - 39s 65ms/step - loss: 3.0036e-04\n",
      "Epoch 28/50\n",
      "600/600 [==============================] - 39s 65ms/step - loss: 2.2728e-04\n",
      "Epoch 29/50\n",
      "600/600 [==============================] - 39s 66ms/step - loss: 2.0677e-04\n",
      "Epoch 30/50\n",
      "600/600 [==============================] - 39s 65ms/step - loss: 2.4166e-04\n",
      "Epoch 31/50\n",
      "600/600 [==============================] - 40s 67ms/step - loss: 2.0076e-04\n",
      "Epoch 32/50\n",
      "600/600 [==============================] - 40s 66ms/step - loss: 0.0066\n",
      "Epoch 33/50\n",
      "600/600 [==============================] - 39s 66ms/step - loss: 7.1364e-04\n",
      "Epoch 34/50\n",
      "600/600 [==============================] - 39s 65ms/step - loss: 6.0736e-04\n",
      "Epoch 35/50\n",
      "600/600 [==============================] - 39s 65ms/step - loss: 4.4671e-04\n",
      "Epoch 36/50\n",
      "600/600 [==============================] - 39s 66ms/step - loss: 5.1661e-04\n",
      "Epoch 37/50\n",
      "600/600 [==============================] - 40s 67ms/step - loss: 3.1279e-04\n",
      "Epoch 38/50\n",
      "600/600 [==============================] - 40s 66ms/step - loss: 2.4374e-04\n",
      "Epoch 39/50\n",
      "600/600 [==============================] - 40s 66ms/step - loss: 3.2008e-04\n",
      "Epoch 40/50\n",
      "600/600 [==============================] - 40s 66ms/step - loss: 2.0409e-04\n",
      "Epoch 41/50\n",
      "600/600 [==============================] - 39s 66ms/step - loss: 0.0097\n",
      "Epoch 42/50\n",
      "600/600 [==============================] - 39s 65ms/step - loss: 7.6414e-04\n",
      "Epoch 43/50\n",
      "600/600 [==============================] - 40s 67ms/step - loss: 4.6386e-04\n",
      "Epoch 44/50\n",
      "600/600 [==============================] - 82s 136ms/step - loss: 3.4417e-04\n",
      "Epoch 45/50\n",
      "600/600 [==============================] - 39s 65ms/step - loss: 2.0969e-04\n",
      "Epoch 46/50\n",
      "600/600 [==============================] - 40s 67ms/step - loss: 3.9670e-04\n",
      "Epoch 47/50\n",
      "600/600 [==============================] - 39s 66ms/step - loss: 3.0186e-04\n",
      "Epoch 48/50\n",
      "600/600 [==============================] - 39s 65ms/step - loss: 2.7577e-04\n",
      "Epoch 49/50\n",
      "600/600 [==============================] - 40s 66ms/step - loss: 2.7652e-04\n",
      "Epoch 50/50\n",
      "600/600 [==============================] - 40s 67ms/step - loss: 2.1797e-04\n"
     ]
    },
    {
     "data": {
      "text/plain": [
       "<tensorflow.python.keras.callbacks.History at 0x7fa25404fa60>"
      ]
     },
     "execution_count": 41,
     "metadata": {},
     "output_type": "execute_result"
    }
   ],
   "source": [
    "moco.fit(train_loader,epochs = epochs)"
   ]
  },
  {
   "cell_type": "code",
   "execution_count": 42,
   "id": "N_5ArX3S_b-_",
   "metadata": {
    "id": "N_5ArX3S_b-_"
   },
   "outputs": [],
   "source": [
    "from sklearn.manifold import TSNE"
   ]
  },
  {
   "cell_type": "code",
   "execution_count": 43,
   "id": "fd310c22",
   "metadata": {
    "id": "fd310c22"
   },
   "outputs": [],
   "source": [
    "import matplotlib.pyplot as plt\n",
    "from matplotlib.offsetbox import OffsetImage, AnnotationBbox\n",
    "import numpy as np"
   ]
  },
  {
   "cell_type": "code",
   "execution_count": 45,
   "id": "01E_neRI_nib",
   "metadata": {
    "colab": {
     "base_uri": "https://localhost:8080/",
     "height": 49,
     "referenced_widgets": [
      "997d9bac71de42fca6788a657e9b8e83",
      "e2d2fb4bd47b4d86b411f5e7165bd3c7",
      "22188243788d4e1aa3bc5fb0ab929049",
      "966fea26b836462a85e9623b3836e810",
      "57c32be6f7764959bff64c77ec0d3c21",
      "4623d5d4ba194dd29e4687504902871b",
      "364218ef7d504dde9350695800073b24",
      "2d5910dba8df4f248dba7ffd39cdab19",
      "536ab59ecdb44a4a8e735fd117a775a4",
      "b20a86d7f20d4e2781bbfd969779e881",
      "e58bd66a94a34bfcb459f3c4ba2db1cc"
     ]
    },
    "id": "01E_neRI_nib",
    "outputId": "98300107-c540-4725-990e-a5600045349b"
   },
   "outputs": [
    {
     "data": {
      "application/vnd.jupyter.widget-view+json": {
       "model_id": "bcadde89732441f3aa1217042cf64601",
       "version_major": 2,
       "version_minor": 0
      },
      "text/plain": [
       "  0%|          | 0/10000 [00:00<?, ?it/s]"
      ]
     },
     "metadata": {},
     "output_type": "display_data"
    }
   ],
   "source": [
    "from tqdm.notebook import tqdm\n",
    "data = []\n",
    "targets = []\n",
    "for m in tqdm(test_mnist):\n",
    "    target = m[1]\n",
    "    targets.append(target)\n",
    "    x = m[0]\n",
    "    x = tf.reshape(x,(1, 28,28))/255\n",
    "    feat = model_q(x)\n",
    "    data.append(feat.numpy()[0])"
   ]
  },
  {
   "cell_type": "code",
   "execution_count": 46,
   "id": "0leoA44m__ek",
   "metadata": {
    "colab": {
     "base_uri": "https://localhost:8080/"
    },
    "id": "0leoA44m__ek",
    "outputId": "625031f1-20c7-4be0-d15e-77e3d5efdddf"
   },
   "outputs": [],
   "source": [
    "ret = TSNE(n_components=2, random_state=0).fit_transform(data)"
   ]
  },
  {
   "cell_type": "code",
   "execution_count": 47,
   "id": "IwhiLeYRBzim",
   "metadata": {
    "id": "IwhiLeYRBzim"
   },
   "outputs": [],
   "source": [
    "def show(mnist, targets, ret):\n",
    "    target_ids = range(len(set(targets)))\n",
    "    \n",
    "    colors = ['r', 'g', 'b', 'c', 'm', 'y', 'k', 'violet', 'orange', 'purple']\n",
    "    \n",
    "    plt.figure(figsize=(12, 10))\n",
    "    \n",
    "    ax = plt.subplot(aspect='equal')\n",
    "    for label in set(targets):\n",
    "        idx = np.where(np.array(targets) == label)[0]\n",
    "        plt.scatter(ret[idx, 0], ret[idx, 1], c=colors[label], label=label)\n",
    "    \n",
    "    for i in range(0, len(targets), 250):\n",
    "        img = (x_test[i,:,:,0] * 255)\n",
    "        img = OffsetImage(img, cmap=plt.cm.gray_r, zoom=0.5) \n",
    "        ax.add_artist(AnnotationBbox(img, ret[i]))\n",
    "    \n",
    "    plt.legend()\n",
    "    plt.show()"
   ]
  },
  {
   "cell_type": "code",
   "execution_count": 48,
   "id": "koLLxqvRB9Bc",
   "metadata": {
    "id": "koLLxqvRB9Bc"
   },
   "outputs": [],
   "source": [
    "targets = [element.numpy() for element in targets]"
   ]
  },
  {
   "cell_type": "code",
   "execution_count": 49,
   "id": "wYa9k9iodyjR",
   "metadata": {
    "colab": {
     "base_uri": "https://localhost:8080/",
     "height": 592
    },
    "id": "wYa9k9iodyjR",
    "outputId": "0c1f20e0-b53b-49f5-fc7c-9d6ebdef55b3"
   },
   "outputs": [
    {
     "data": {
      "image/png": "[encoded data removed]",
      "text/plain": [
       "<Figure size 864x720 with 1 Axes>"
      ]
     },
     "metadata": {
      "needs_background": "light"
     },
     "output_type": "display_data"
    }
   ],
   "source": [
    "show(mnist, targets, ret)"
   ]
  },
  {
   "cell_type": "code",
   "execution_count": null,
   "id": "XsZ2Um7-CRea",
   "metadata": {
    "id": "XsZ2Um7-CRea"
   },
   "outputs": [],
   "source": []
  }
 ],
 "metadata": {
  "accelerator": "GPU",
  "colab": {
   "collapsed_sections": [],
   "provenance": []
  },
  "kernelspec": {
   "display_name": "Python 3",
   "language": "python",
   "name": "python3"
  },
  "language_info": {
   "codemirror_mode": {
    "name": "ipython",
    "version": 3
   },
   "file_extension": ".py",
   "mimetype": "text/x-python",
   "name": "python",
   "nbconvert_exporter": "python",
   "pygments_lexer": "ipython3",
   "version": "3.8.8"
  },
  "widgets": {
   "application/vnd.jupyter.widget-state+json": {
    "0a2f1a02ad484466ad232f0d9cd4d542": {
     "model_module": "@jupyter-widgets/controls",
     "model_module_version": "1.5.0",
     "model_name": "HTMLModel",
     "state": {
      "_dom_classes": [],
      "_model_module": "@jupyter-widgets/controls",
      "_model_module_version": "1.5.0",
      "_model_name": "HTMLModel",
      "_view_count": null,
      "_view_module": "@jupyter-widgets/controls",
      "_view_module_version": "1.5.0",
      "_view_name": "HTMLView",
      "description": "",
      "description_tooltip": null,
      "layout": "IPY_MODEL_c61548ce10674c43aaa706b61e2fa681",
      "placeholder": "​",
      "style": "IPY_MODEL_e0edd2f180724d2786f5e86363e76a5a",
      "value": ""
     }
    },
    "22188243788d4e1aa3bc5fb0ab929049": {
     "model_module": "@jupyter-widgets/controls",
     "model_module_version": "1.5.0",
     "model_name": "FloatProgressModel",
     "state": {
      "_dom_classes": [],
      "_model_module": "@jupyter-widgets/controls",
      "_model_module_version": "1.5.0",
      "_model_name": "FloatProgressModel",
      "_view_count": null,
      "_view_module": "@jupyter-widgets/controls",
      "_view_module_version": "1.5.0",
      "_view_name": "ProgressView",
      "bar_style": "success",
      "description": "",
      "description_tooltip": null,
      "layout": "IPY_MODEL_2d5910dba8df4f248dba7ffd39cdab19",
      "max": 10000,
      "min": 0,
      "orientation": "horizontal",
      "style": "IPY_MODEL_536ab59ecdb44a4a8e735fd117a775a4",
      "value": 10000
     }
    },
    "2d5910dba8df4f248dba7ffd39cdab19": {
     "model_module": "@jupyter-widgets/base",
     "model_module_version": "1.2.0",
     "model_name": "LayoutModel",
     "state": {
      "_model_module": "@jupyter-widgets/base",
      "_model_module_version": "1.2.0",
      "_model_name": "LayoutModel",
      "_view_count": null,
      "_view_module": "@jupyter-widgets/base",
      "_view_module_version": "1.2.0",
      "_view_name": "LayoutView",
      "align_content": null,
      "align_items": null,
      "align_self": null,
      "border": null,
      "bottom": null,
      "display": null,
      "flex": null,
      "flex_flow": null,
      "grid_area": null,
      "grid_auto_columns": null,
      "grid_auto_flow": null,
      "grid_auto_rows": null,
      "grid_column": null,
      "grid_gap": null,
      "grid_row": null,
      "grid_template_areas": null,
      "grid_template_columns": null,
      "grid_template_rows": null,
      "height": null,
      "justify_content": null,
      "justify_items": null,
      "left": null,
      "margin": null,
      "max_height": null,
      "max_width": null,
      "min_height": null,
      "min_width": null,
      "object_fit": null,
      "object_position": null,
      "order": null,
      "overflow": null,
      "overflow_x": null,
      "overflow_y": null,
      "padding": null,
      "right": null,
      "top": null,
      "visibility": null,
      "width": null
     }
    },
    "30eb2de8afea4ce6a0196f20511f74b9": {
     "model_module": "@jupyter-widgets/controls",
     "model_module_version": "1.5.0",
     "model_name": "FloatProgressModel",
     "state": {
      "_dom_classes": [],
      "_model_module": "@jupyter-widgets/controls",
      "_model_module_version": "1.5.0",
      "_model_name": "FloatProgressModel",
      "_view_count": null,
      "_view_module": "@jupyter-widgets/controls",
      "_view_module_version": "1.5.0",
      "_view_name": "ProgressView",
      "bar_style": "danger",
      "description": "",
      "description_tooltip": null,
      "layout": "IPY_MODEL_e3dcf76ea5ed499282712077e63c0442",
      "max": 1,
      "min": 0,
      "orientation": "horizontal",
      "style": "IPY_MODEL_58b27b01c1154048a1ded116f18382b1",
      "value": 1
     }
    },
    "364218ef7d504dde9350695800073b24": {
     "model_module": "@jupyter-widgets/controls",
     "model_module_version": "1.5.0",
     "model_name": "DescriptionStyleModel",
     "state": {
      "_model_module": "@jupyter-widgets/controls",
      "_model_module_version": "1.5.0",
      "_model_name": "DescriptionStyleModel",
      "_view_count": null,
      "_view_module": "@jupyter-widgets/base",
      "_view_module_version": "1.2.0",
      "_view_name": "StyleView",
      "description_width": ""
     }
    },
    "4623d5d4ba194dd29e4687504902871b": {
     "model_module": "@jupyter-widgets/base",
     "model_module_version": "1.2.0",
     "model_name": "LayoutModel",
     "state": {
      "_model_module": "@jupyter-widgets/base",
      "_model_module_version": "1.2.0",
      "_model_name": "LayoutModel",
      "_view_count": null,
      "_view_module": "@jupyter-widgets/base",
      "_view_module_version": "1.2.0",
      "_view_name": "LayoutView",
      "align_content": null,
      "align_items": null,
      "align_self": null,
      "border": null,
      "bottom": null,
      "display": null,
      "flex": null,
      "flex_flow": null,
      "grid_area": null,
      "grid_auto_columns": null,
      "grid_auto_flow": null,
      "grid_auto_rows": null,
      "grid_column": null,
      "grid_gap": null,
      "grid_row": null,
      "grid_template_areas": null,
      "grid_template_columns": null,
      "grid_template_rows": null,
      "height": null,
      "justify_content": null,
      "justify_items": null,
      "left": null,
      "margin": null,
      "max_height": null,
      "max_width": null,
      "min_height": null,
      "min_width": null,
      "object_fit": null,
      "object_position": null,
      "order": null,
      "overflow": null,
      "overflow_x": null,
      "overflow_y": null,
      "padding": null,
      "right": null,
      "top": null,
      "visibility": null,
      "width": null
     }
    },
    "536ab59ecdb44a4a8e735fd117a775a4": {
     "model_module": "@jupyter-widgets/controls",
     "model_module_version": "1.5.0",
     "model_name": "ProgressStyleModel",
     "state": {
      "_model_module": "@jupyter-widgets/controls",
      "_model_module_version": "1.5.0",
      "_model_name": "ProgressStyleModel",
      "_view_count": null,
      "_view_module": "@jupyter-widgets/base",
      "_view_module_version": "1.2.0",
      "_view_name": "StyleView",
      "bar_color": null,
      "description_width": ""
     }
    },
    "57c32be6f7764959bff64c77ec0d3c21": {
     "model_module": "@jupyter-widgets/base",
     "model_module_version": "1.2.0",
     "model_name": "LayoutModel",
     "state": {
      "_model_module": "@jupyter-widgets/base",
      "_model_module_version": "1.2.0",
      "_model_name": "LayoutModel",
      "_view_count": null,
      "_view_module": "@jupyter-widgets/base",
      "_view_module_version": "1.2.0",
      "_view_name": "LayoutView",
      "align_content": null,
      "align_items": null,
      "align_self": null,
      "border": null,
      "bottom": null,
      "display": null,
      "flex": null,
      "flex_flow": null,
      "grid_area": null,
      "grid_auto_columns": null,
      "grid_auto_flow": null,
      "grid_auto_rows": null,
      "grid_column": null,
      "grid_gap": null,
      "grid_row": null,
      "grid_template_areas": null,
      "grid_template_columns": null,
      "grid_template_rows": null,
      "height": null,
      "justify_content": null,
      "justify_items": null,
      "left": null,
      "margin": null,
      "max_height": null,
      "max_width": null,
      "min_height": null,
      "min_width": null,
      "object_fit": null,
      "object_position": null,
      "order": null,
      "overflow": null,
      "overflow_x": null,
      "overflow_y": null,
      "padding": null,
      "right": null,
      "top": null,
      "visibility": null,
      "width": null
     }
    },
    "58b27b01c1154048a1ded116f18382b1": {
     "model_module": "@jupyter-widgets/controls",
     "model_module_version": "1.5.0",
     "model_name": "ProgressStyleModel",
     "state": {
      "_model_module": "@jupyter-widgets/controls",
      "_model_module_version": "1.5.0",
      "_model_name": "ProgressStyleModel",
      "_view_count": null,
      "_view_module": "@jupyter-widgets/base",
      "_view_module_version": "1.2.0",
      "_view_name": "StyleView",
      "bar_color": null,
      "description_width": ""
     }
    },
    "84c34f392c0d4e02b36f323335815e4c": {
     "model_module": "@jupyter-widgets/base",
     "model_module_version": "1.2.0",
     "model_name": "LayoutModel",
     "state": {
      "_model_module": "@jupyter-widgets/base",
      "_model_module_version": "1.2.0",
      "_model_name": "LayoutModel",
      "_view_count": null,
      "_view_module": "@jupyter-widgets/base",
      "_view_module_version": "1.2.0",
      "_view_name": "LayoutView",
      "align_content": null,
      "align_items": null,
      "align_self": null,
      "border": null,
      "bottom": null,
      "display": null,
      "flex": null,
      "flex_flow": null,
      "grid_area": null,
      "grid_auto_columns": null,
      "grid_auto_flow": null,
      "grid_auto_rows": null,
      "grid_column": null,
      "grid_gap": null,
      "grid_row": null,
      "grid_template_areas": null,
      "grid_template_columns": null,
      "grid_template_rows": null,
      "height": null,
      "justify_content": null,
      "justify_items": null,
      "left": null,
      "margin": null,
      "max_height": null,
      "max_width": null,
      "min_height": null,
      "min_width": null,
      "object_fit": null,
      "object_position": null,
      "order": null,
      "overflow": null,
      "overflow_x": null,
      "overflow_y": null,
      "padding": null,
      "right": null,
      "top": null,
      "visibility": null,
      "width": null
     }
    },
    "966fea26b836462a85e9623b3836e810": {
     "model_module": "@jupyter-widgets/controls",
     "model_module_version": "1.5.0",
     "model_name": "HTMLModel",
     "state": {
      "_dom_classes": [],
      "_model_module": "@jupyter-widgets/controls",
      "_model_module_version": "1.5.0",
      "_model_name": "HTMLModel",
      "_view_count": null,
      "_view_module": "@jupyter-widgets/controls",
      "_view_module_version": "1.5.0",
      "_view_name": "HTMLView",
      "description": "",
      "description_tooltip": null,
      "layout": "IPY_MODEL_b20a86d7f20d4e2781bbfd969779e881",
      "placeholder": "​",
      "style": "IPY_MODEL_e58bd66a94a34bfcb459f3c4ba2db1cc",
      "value": " 10000/10000 [00:46&lt;00:00, 218.28it/s]"
     }
    },
    "997d9bac71de42fca6788a657e9b8e83": {
     "model_module": "@jupyter-widgets/controls",
     "model_module_version": "1.5.0",
     "model_name": "HBoxModel",
     "state": {
      "_dom_classes": [],
      "_model_module": "@jupyter-widgets/controls",
      "_model_module_version": "1.5.0",
      "_model_name": "HBoxModel",
      "_view_count": null,
      "_view_module": "@jupyter-widgets/controls",
      "_view_module_version": "1.5.0",
      "_view_name": "HBoxView",
      "box_style": "",
      "children": [
       "IPY_MODEL_e2d2fb4bd47b4d86b411f5e7165bd3c7",
       "IPY_MODEL_22188243788d4e1aa3bc5fb0ab929049",
       "IPY_MODEL_966fea26b836462a85e9623b3836e810"
      ],
      "layout": "IPY_MODEL_57c32be6f7764959bff64c77ec0d3c21"
     }
    },
    "af7a9ecac0724fd0bebb7c05af2e2f2c": {
     "model_module": "@jupyter-widgets/base",
     "model_module_version": "1.2.0",
     "model_name": "LayoutModel",
     "state": {
      "_model_module": "@jupyter-widgets/base",
      "_model_module_version": "1.2.0",
      "_model_name": "LayoutModel",
      "_view_count": null,
      "_view_module": "@jupyter-widgets/base",
      "_view_module_version": "1.2.0",
      "_view_name": "LayoutView",
      "align_content": null,
      "align_items": null,
      "align_self": null,
      "border": null,
      "bottom": null,
      "display": null,
      "flex": null,
      "flex_flow": null,
      "grid_area": null,
      "grid_auto_columns": null,
      "grid_auto_flow": null,
      "grid_auto_rows": null,
      "grid_column": null,
      "grid_gap": null,
      "grid_row": null,
      "grid_template_areas": null,
      "grid_template_columns": null,
      "grid_template_rows": null,
      "height": null,
      "justify_content": null,
      "justify_items": null,
      "left": null,
      "margin": null,
      "max_height": null,
      "max_width": null,
      "min_height": null,
      "min_width": null,
      "object_fit": null,
      "object_position": null,
      "order": null,
      "overflow": null,
      "overflow_x": null,
      "overflow_y": null,
      "padding": null,
      "right": null,
      "top": null,
      "visibility": null,
      "width": null
     }
    },
    "b20a86d7f20d4e2781bbfd969779e881": {
     "model_module": "@jupyter-widgets/base",
     "model_module_version": "1.2.0",
     "model_name": "LayoutModel",
     "state": {
      "_model_module": "@jupyter-widgets/base",
      "_model_module_version": "1.2.0",
      "_model_name": "LayoutModel",
      "_view_count": null,
      "_view_module": "@jupyter-widgets/base",
      "_view_module_version": "1.2.0",
      "_view_name": "LayoutView",
      "align_content": null,
      "align_items": null,
      "align_self": null,
      "border": null,
      "bottom": null,
      "display": null,
      "flex": null,
      "flex_flow": null,
      "grid_area": null,
      "grid_auto_columns": null,
      "grid_auto_flow": null,
      "grid_auto_rows": null,
      "grid_column": null,
      "grid_gap": null,
      "grid_row": null,
      "grid_template_areas": null,
      "grid_template_columns": null,
      "grid_template_rows": null,
      "height": null,
      "justify_content": null,
      "justify_items": null,
      "left": null,
      "margin": null,
      "max_height": null,
      "max_width": null,
      "min_height": null,
      "min_width": null,
      "object_fit": null,
      "object_position": null,
      "order": null,
      "overflow": null,
      "overflow_x": null,
      "overflow_y": null,
      "padding": null,
      "right": null,
      "top": null,
      "visibility": null,
      "width": null
     }
    },
    "b8e86926e74d4eda8f07627065d2a044": {
     "model_module": "@jupyter-widgets/controls",
     "model_module_version": "1.5.0",
     "model_name": "HBoxModel",
     "state": {
      "_dom_classes": [],
      "_model_module": "@jupyter-widgets/controls",
      "_model_module_version": "1.5.0",
      "_model_name": "HBoxModel",
      "_view_count": null,
      "_view_module": "@jupyter-widgets/controls",
      "_view_module_version": "1.5.0",
      "_view_name": "HBoxView",
      "box_style": "",
      "children": [
       "IPY_MODEL_0a2f1a02ad484466ad232f0d9cd4d542",
       "IPY_MODEL_30eb2de8afea4ce6a0196f20511f74b9",
       "IPY_MODEL_c952b15558504caf83fb7f9c854229eb"
      ],
      "layout": "IPY_MODEL_84c34f392c0d4e02b36f323335815e4c"
     }
    },
    "c61548ce10674c43aaa706b61e2fa681": {
     "model_module": "@jupyter-widgets/base",
     "model_module_version": "1.2.0",
     "model_name": "LayoutModel",
     "state": {
      "_model_module": "@jupyter-widgets/base",
      "_model_module_version": "1.2.0",
      "_model_name": "LayoutModel",
      "_view_count": null,
      "_view_module": "@jupyter-widgets/base",
      "_view_module_version": "1.2.0",
      "_view_name": "LayoutView",
      "align_content": null,
      "align_items": null,
      "align_self": null,
      "border": null,
      "bottom": null,
      "display": null,
      "flex": null,
      "flex_flow": null,
      "grid_area": null,
      "grid_auto_columns": null,
      "grid_auto_flow": null,
      "grid_auto_rows": null,
      "grid_column": null,
      "grid_gap": null,
      "grid_row": null,
      "grid_template_areas": null,
      "grid_template_columns": null,
      "grid_template_rows": null,
      "height": null,
      "justify_content": null,
      "justify_items": null,
      "left": null,
      "margin": null,
      "max_height": null,
      "max_width": null,
      "min_height": null,
      "min_width": null,
      "object_fit": null,
      "object_position": null,
      "order": null,
      "overflow": null,
      "overflow_x": null,
      "overflow_y": null,
      "padding": null,
      "right": null,
      "top": null,
      "visibility": null,
      "width": null
     }
    },
    "c952b15558504caf83fb7f9c854229eb": {
     "model_module": "@jupyter-widgets/controls",
     "model_module_version": "1.5.0",
     "model_name": "HTMLModel",
     "state": {
      "_dom_classes": [],
      "_model_module": "@jupyter-widgets/controls",
      "_model_module_version": "1.5.0",
      "_model_name": "HTMLModel",
      "_view_count": null,
      "_view_module": "@jupyter-widgets/controls",
      "_view_module_version": "1.5.0",
      "_view_name": "HTMLView",
      "description": "",
      "description_tooltip": null,
      "layout": "IPY_MODEL_af7a9ecac0724fd0bebb7c05af2e2f2c",
      "placeholder": "​",
      "style": "IPY_MODEL_e921f7394ddf4fc590a4d5bc9485f994",
      "value": " 27/? [00:13&lt;00:00,  1.92it/s]"
     }
    },
    "e0edd2f180724d2786f5e86363e76a5a": {
     "model_module": "@jupyter-widgets/controls",
     "model_module_version": "1.5.0",
     "model_name": "DescriptionStyleModel",
     "state": {
      "_model_module": "@jupyter-widgets/controls",
      "_model_module_version": "1.5.0",
      "_model_name": "DescriptionStyleModel",
      "_view_count": null,
      "_view_module": "@jupyter-widgets/base",
      "_view_module_version": "1.2.0",
      "_view_name": "StyleView",
      "description_width": ""
     }
    },
    "e2d2fb4bd47b4d86b411f5e7165bd3c7": {
     "model_module": "@jupyter-widgets/controls",
     "model_module_version": "1.5.0",
     "model_name": "HTMLModel",
     "state": {
      "_dom_classes": [],
      "_model_module": "@jupyter-widgets/controls",
      "_model_module_version": "1.5.0",
      "_model_name": "HTMLModel",
      "_view_count": null,
      "_view_module": "@jupyter-widgets/controls",
      "_view_module_version": "1.5.0",
      "_view_name": "HTMLView",
      "description": "",
      "description_tooltip": null,
      "layout": "IPY_MODEL_4623d5d4ba194dd29e4687504902871b",
      "placeholder": "​",
      "style": "IPY_MODEL_364218ef7d504dde9350695800073b24",
      "value": "100%"
     }
    },
    "e3dcf76ea5ed499282712077e63c0442": {
     "model_module": "@jupyter-widgets/base",
     "model_module_version": "1.2.0",
     "model_name": "LayoutModel",
     "state": {
      "_model_module": "@jupyter-widgets/base",
      "_model_module_version": "1.2.0",
      "_model_name": "LayoutModel",
      "_view_count": null,
      "_view_module": "@jupyter-widgets/base",
      "_view_module_version": "1.2.0",
      "_view_name": "LayoutView",
      "align_content": null,
      "align_items": null,
      "align_self": null,
      "border": null,
      "bottom": null,
      "display": null,
      "flex": null,
      "flex_flow": null,
      "grid_area": null,
      "grid_auto_columns": null,
      "grid_auto_flow": null,
      "grid_auto_rows": null,
      "grid_column": null,
      "grid_gap": null,
      "grid_row": null,
      "grid_template_areas": null,
      "grid_template_columns": null,
      "grid_template_rows": null,
      "height": null,
      "justify_content": null,
      "justify_items": null,
      "left": null,
      "margin": null,
      "max_height": null,
      "max_width": null,
      "min_height": null,
      "min_width": null,
      "object_fit": null,
      "object_position": null,
      "order": null,
      "overflow": null,
      "overflow_x": null,
      "overflow_y": null,
      "padding": null,
      "right": null,
      "top": null,
      "visibility": null,
      "width": "20px"
     }
    },
    "e58bd66a94a34bfcb459f3c4ba2db1cc": {
     "model_module": "@jupyter-widgets/controls",
     "model_module_version": "1.5.0",
     "model_name": "DescriptionStyleModel",
     "state": {
      "_model_module": "@jupyter-widgets/controls",
      "_model_module_version": "1.5.0",
      "_model_name": "DescriptionStyleModel",
      "_view_count": null,
      "_view_module": "@jupyter-widgets/base",
      "_view_module_version": "1.2.0",
      "_view_name": "StyleView",
      "description_width": ""
     }
    },
    "e921f7394ddf4fc590a4d5bc9485f994": {
     "model_module": "@jupyter-widgets/controls",
     "model_module_version": "1.5.0",
     "model_name": "DescriptionStyleModel",
     "state": {
      "_model_module": "@jupyter-widgets/controls",
      "_model_module_version": "1.5.0",
      "_model_name": "DescriptionStyleModel",
      "_view_count": null,
      "_view_module": "@jupyter-widgets/base",
      "_view_module_version": "1.2.0",
      "_view_name": "StyleView",
      "description_width": ""
     }
    }
   }
  }
 },
 "nbformat": 4,
 "nbformat_minor": 5
}
